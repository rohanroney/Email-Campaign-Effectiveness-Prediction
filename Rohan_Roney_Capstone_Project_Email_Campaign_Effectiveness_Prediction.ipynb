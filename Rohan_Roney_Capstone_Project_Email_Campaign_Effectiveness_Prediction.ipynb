{
  "nbformat": 4,
  "nbformat_minor": 0,
  "metadata": {
    "colab": {
      "name": "Rohan Roney-Capstone Project-Email Campaign Effectiveness Prediction.ipynb",
      "provenance": [],
      "collapsed_sections": [],
      "mount_file_id": "1-WECOt01TzTzioOQbjRyBR4VT27n450P",
      "authorship_tag": "ABX9TyOihl/DY3biq6xW05M3xx2V",
      "include_colab_link": true
    },
    "kernelspec": {
      "name": "python3",
      "display_name": "Python 3"
    },
    "language_info": {
      "name": "python"
    }
  },
  "cells": [
    {
      "cell_type": "markdown",
      "metadata": {
        "id": "view-in-github",
        "colab_type": "text"
      },
      "source": [
        "<a href=\"https://colab.research.google.com/github/rohanroney/email-campaign-effectiveness-prediction/blob/main/Rohan_Roney_Capstone_Project_Email_Campaign_Effectiveness_Prediction.ipynb\" target=\"_parent\"><img src=\"https://colab.research.google.com/assets/colab-badge.svg\" alt=\"Open In Colab\"/></a>"
      ]
    },
    {
      "cell_type": "markdown",
      "metadata": {
        "id": "VV6wRhyOQYGg"
      },
      "source": [
        "### Problem Statement:\n",
        "Most of the small to medium business owners are making effective use of Gmail-based Email marketing Strategies for offline targeting of converting their prospective customers into leads so that they stay with them in Business. \n",
        "The main objective is to create a machine learning model to characterize the mail and track the mail that is ignored; read; acknowledged by the reader. \n"
      ]
    },
    {
      "cell_type": "markdown",
      "metadata": {
        "id": "x-qvWpXpQneJ"
      },
      "source": [
        "## EDA - Understanding the Data"
      ]
    },
    {
      "cell_type": "code",
      "metadata": {
        "id": "z8IUdjqRREFh"
      },
      "source": [
        "# Importing the libraries\n",
        "\n",
        "import pandas as pd\n",
        "import numpy as np\n",
        "import matplotlib.pyplot as plt\n",
        "import seaborn as sns\n",
        "import scipy.stats as stats\n",
        "from sklearn.preprocessing import StandardScaler\n",
        "\n"
      ],
      "execution_count": 63,
      "outputs": []
    },
    {
      "cell_type": "code",
      "metadata": {
        "id": "tX3Kdc0nQWu3"
      },
      "source": [
        "# Loading the dataset\n",
        "df = pd.read_csv(\"/content/drive/MyDrive/AlmaBetter/Cohort Nilgiri/Module 3/Capstone Project - Email Campaign Effectiveness Prediction/data_email_campaign.csv\")"
      ],
      "execution_count": 64,
      "outputs": []
    },
    {
      "cell_type": "code",
      "metadata": {
        "colab": {
          "base_uri": "https://localhost:8080/",
          "height": 224
        },
        "id": "p41hmV4CREZ-",
        "outputId": "ae5a0651-4912-497f-dad9-bc56a4b85a19"
      },
      "source": [
        "df.head()"
      ],
      "execution_count": 65,
      "outputs": [
        {
          "output_type": "execute_result",
          "data": {
            "text/html": [
              "<div>\n",
              "<style scoped>\n",
              "    .dataframe tbody tr th:only-of-type {\n",
              "        vertical-align: middle;\n",
              "    }\n",
              "\n",
              "    .dataframe tbody tr th {\n",
              "        vertical-align: top;\n",
              "    }\n",
              "\n",
              "    .dataframe thead th {\n",
              "        text-align: right;\n",
              "    }\n",
              "</style>\n",
              "<table border=\"1\" class=\"dataframe\">\n",
              "  <thead>\n",
              "    <tr style=\"text-align: right;\">\n",
              "      <th></th>\n",
              "      <th>Email_ID</th>\n",
              "      <th>Email_Type</th>\n",
              "      <th>Subject_Hotness_Score</th>\n",
              "      <th>Email_Source_Type</th>\n",
              "      <th>Customer_Location</th>\n",
              "      <th>Email_Campaign_Type</th>\n",
              "      <th>Total_Past_Communications</th>\n",
              "      <th>Time_Email_sent_Category</th>\n",
              "      <th>Word_Count</th>\n",
              "      <th>Total_Links</th>\n",
              "      <th>Total_Images</th>\n",
              "      <th>Email_Status</th>\n",
              "    </tr>\n",
              "  </thead>\n",
              "  <tbody>\n",
              "    <tr>\n",
              "      <th>0</th>\n",
              "      <td>EMA00081000034500</td>\n",
              "      <td>1</td>\n",
              "      <td>2.2</td>\n",
              "      <td>2</td>\n",
              "      <td>E</td>\n",
              "      <td>2</td>\n",
              "      <td>33.0</td>\n",
              "      <td>1</td>\n",
              "      <td>440</td>\n",
              "      <td>8.0</td>\n",
              "      <td>0.0</td>\n",
              "      <td>0</td>\n",
              "    </tr>\n",
              "    <tr>\n",
              "      <th>1</th>\n",
              "      <td>EMA00081000045360</td>\n",
              "      <td>2</td>\n",
              "      <td>2.1</td>\n",
              "      <td>1</td>\n",
              "      <td>NaN</td>\n",
              "      <td>2</td>\n",
              "      <td>15.0</td>\n",
              "      <td>2</td>\n",
              "      <td>504</td>\n",
              "      <td>5.0</td>\n",
              "      <td>0.0</td>\n",
              "      <td>0</td>\n",
              "    </tr>\n",
              "    <tr>\n",
              "      <th>2</th>\n",
              "      <td>EMA00081000066290</td>\n",
              "      <td>2</td>\n",
              "      <td>0.1</td>\n",
              "      <td>1</td>\n",
              "      <td>B</td>\n",
              "      <td>3</td>\n",
              "      <td>36.0</td>\n",
              "      <td>2</td>\n",
              "      <td>962</td>\n",
              "      <td>5.0</td>\n",
              "      <td>0.0</td>\n",
              "      <td>1</td>\n",
              "    </tr>\n",
              "    <tr>\n",
              "      <th>3</th>\n",
              "      <td>EMA00081000076560</td>\n",
              "      <td>1</td>\n",
              "      <td>3.0</td>\n",
              "      <td>2</td>\n",
              "      <td>E</td>\n",
              "      <td>2</td>\n",
              "      <td>25.0</td>\n",
              "      <td>2</td>\n",
              "      <td>610</td>\n",
              "      <td>16.0</td>\n",
              "      <td>0.0</td>\n",
              "      <td>0</td>\n",
              "    </tr>\n",
              "    <tr>\n",
              "      <th>4</th>\n",
              "      <td>EMA00081000109720</td>\n",
              "      <td>1</td>\n",
              "      <td>0.0</td>\n",
              "      <td>2</td>\n",
              "      <td>C</td>\n",
              "      <td>3</td>\n",
              "      <td>18.0</td>\n",
              "      <td>2</td>\n",
              "      <td>947</td>\n",
              "      <td>4.0</td>\n",
              "      <td>0.0</td>\n",
              "      <td>0</td>\n",
              "    </tr>\n",
              "  </tbody>\n",
              "</table>\n",
              "</div>"
            ],
            "text/plain": [
              "            Email_ID  Email_Type  ...  Total_Images  Email_Status\n",
              "0  EMA00081000034500           1  ...           0.0             0\n",
              "1  EMA00081000045360           2  ...           0.0             0\n",
              "2  EMA00081000066290           2  ...           0.0             1\n",
              "3  EMA00081000076560           1  ...           0.0             0\n",
              "4  EMA00081000109720           1  ...           0.0             0\n",
              "\n",
              "[5 rows x 12 columns]"
            ]
          },
          "metadata": {
            "tags": []
          },
          "execution_count": 65
        }
      ]
    },
    {
      "cell_type": "code",
      "metadata": {
        "colab": {
          "base_uri": "https://localhost:8080/"
        },
        "id": "q4aGI6hHREtV",
        "outputId": "0660ba70-94ea-4372-a18c-b139602503e0"
      },
      "source": [
        "df.shape"
      ],
      "execution_count": 66,
      "outputs": [
        {
          "output_type": "execute_result",
          "data": {
            "text/plain": [
              "(68353, 12)"
            ]
          },
          "metadata": {
            "tags": []
          },
          "execution_count": 66
        }
      ]
    },
    {
      "cell_type": "markdown",
      "metadata": {
        "id": "WjtNhMDXR_ar"
      },
      "source": [
        "* Hence there are 12 features.\n",
        "* The target variable here is \"Email_Status\"\n"
      ]
    },
    {
      "cell_type": "code",
      "metadata": {
        "colab": {
          "base_uri": "https://localhost:8080/"
        },
        "id": "Tm9XGKlgRGwr",
        "outputId": "3bd6fb82-43bc-4090-d6f6-60d2ceeb1dce"
      },
      "source": [
        "df.info()"
      ],
      "execution_count": 67,
      "outputs": [
        {
          "output_type": "stream",
          "text": [
            "<class 'pandas.core.frame.DataFrame'>\n",
            "RangeIndex: 68353 entries, 0 to 68352\n",
            "Data columns (total 12 columns):\n",
            " #   Column                     Non-Null Count  Dtype  \n",
            "---  ------                     --------------  -----  \n",
            " 0   Email_ID                   68353 non-null  object \n",
            " 1   Email_Type                 68353 non-null  int64  \n",
            " 2   Subject_Hotness_Score      68353 non-null  float64\n",
            " 3   Email_Source_Type          68353 non-null  int64  \n",
            " 4   Customer_Location          56758 non-null  object \n",
            " 5   Email_Campaign_Type        68353 non-null  int64  \n",
            " 6   Total_Past_Communications  61528 non-null  float64\n",
            " 7   Time_Email_sent_Category   68353 non-null  int64  \n",
            " 8   Word_Count                 68353 non-null  int64  \n",
            " 9   Total_Links                66152 non-null  float64\n",
            " 10  Total_Images               66676 non-null  float64\n",
            " 11  Email_Status               68353 non-null  int64  \n",
            "dtypes: float64(4), int64(6), object(2)\n",
            "memory usage: 6.3+ MB\n"
          ],
          "name": "stdout"
        }
      ]
    },
    {
      "cell_type": "markdown",
      "metadata": {
        "id": "DzlA8YpgSneP"
      },
      "source": [
        "We can observe that there are a lot of null values for features like Customer_Location (11,595), Total_Past_Communications (6825), Total_Links(2201) and Total_Images(1677)."
      ]
    },
    {
      "cell_type": "code",
      "metadata": {
        "colab": {
          "base_uri": "https://localhost:8080/",
          "height": 317
        },
        "id": "UMhOk1RaRG7B",
        "outputId": "d3c7e1e8-f74e-4026-984e-260e6a1125fb"
      },
      "source": [
        "df.describe()"
      ],
      "execution_count": 68,
      "outputs": [
        {
          "output_type": "execute_result",
          "data": {
            "text/html": [
              "<div>\n",
              "<style scoped>\n",
              "    .dataframe tbody tr th:only-of-type {\n",
              "        vertical-align: middle;\n",
              "    }\n",
              "\n",
              "    .dataframe tbody tr th {\n",
              "        vertical-align: top;\n",
              "    }\n",
              "\n",
              "    .dataframe thead th {\n",
              "        text-align: right;\n",
              "    }\n",
              "</style>\n",
              "<table border=\"1\" class=\"dataframe\">\n",
              "  <thead>\n",
              "    <tr style=\"text-align: right;\">\n",
              "      <th></th>\n",
              "      <th>Email_Type</th>\n",
              "      <th>Subject_Hotness_Score</th>\n",
              "      <th>Email_Source_Type</th>\n",
              "      <th>Email_Campaign_Type</th>\n",
              "      <th>Total_Past_Communications</th>\n",
              "      <th>Time_Email_sent_Category</th>\n",
              "      <th>Word_Count</th>\n",
              "      <th>Total_Links</th>\n",
              "      <th>Total_Images</th>\n",
              "      <th>Email_Status</th>\n",
              "    </tr>\n",
              "  </thead>\n",
              "  <tbody>\n",
              "    <tr>\n",
              "      <th>count</th>\n",
              "      <td>68353.000000</td>\n",
              "      <td>68353.000000</td>\n",
              "      <td>68353.000000</td>\n",
              "      <td>68353.000000</td>\n",
              "      <td>61528.000000</td>\n",
              "      <td>68353.000000</td>\n",
              "      <td>68353.000000</td>\n",
              "      <td>66152.000000</td>\n",
              "      <td>66676.000000</td>\n",
              "      <td>68353.000000</td>\n",
              "    </tr>\n",
              "    <tr>\n",
              "      <th>mean</th>\n",
              "      <td>1.285094</td>\n",
              "      <td>1.095481</td>\n",
              "      <td>1.456513</td>\n",
              "      <td>2.272234</td>\n",
              "      <td>28.933250</td>\n",
              "      <td>1.999298</td>\n",
              "      <td>699.931751</td>\n",
              "      <td>10.429526</td>\n",
              "      <td>3.550678</td>\n",
              "      <td>0.230934</td>\n",
              "    </tr>\n",
              "    <tr>\n",
              "      <th>std</th>\n",
              "      <td>0.451462</td>\n",
              "      <td>0.997578</td>\n",
              "      <td>0.498109</td>\n",
              "      <td>0.468680</td>\n",
              "      <td>12.536518</td>\n",
              "      <td>0.631103</td>\n",
              "      <td>271.719440</td>\n",
              "      <td>6.383270</td>\n",
              "      <td>5.596983</td>\n",
              "      <td>0.497032</td>\n",
              "    </tr>\n",
              "    <tr>\n",
              "      <th>min</th>\n",
              "      <td>1.000000</td>\n",
              "      <td>0.000000</td>\n",
              "      <td>1.000000</td>\n",
              "      <td>1.000000</td>\n",
              "      <td>0.000000</td>\n",
              "      <td>1.000000</td>\n",
              "      <td>40.000000</td>\n",
              "      <td>1.000000</td>\n",
              "      <td>0.000000</td>\n",
              "      <td>0.000000</td>\n",
              "    </tr>\n",
              "    <tr>\n",
              "      <th>25%</th>\n",
              "      <td>1.000000</td>\n",
              "      <td>0.200000</td>\n",
              "      <td>1.000000</td>\n",
              "      <td>2.000000</td>\n",
              "      <td>20.000000</td>\n",
              "      <td>2.000000</td>\n",
              "      <td>521.000000</td>\n",
              "      <td>6.000000</td>\n",
              "      <td>0.000000</td>\n",
              "      <td>0.000000</td>\n",
              "    </tr>\n",
              "    <tr>\n",
              "      <th>50%</th>\n",
              "      <td>1.000000</td>\n",
              "      <td>0.800000</td>\n",
              "      <td>1.000000</td>\n",
              "      <td>2.000000</td>\n",
              "      <td>28.000000</td>\n",
              "      <td>2.000000</td>\n",
              "      <td>694.000000</td>\n",
              "      <td>9.000000</td>\n",
              "      <td>0.000000</td>\n",
              "      <td>0.000000</td>\n",
              "    </tr>\n",
              "    <tr>\n",
              "      <th>75%</th>\n",
              "      <td>2.000000</td>\n",
              "      <td>1.800000</td>\n",
              "      <td>2.000000</td>\n",
              "      <td>3.000000</td>\n",
              "      <td>38.000000</td>\n",
              "      <td>2.000000</td>\n",
              "      <td>880.000000</td>\n",
              "      <td>14.000000</td>\n",
              "      <td>5.000000</td>\n",
              "      <td>0.000000</td>\n",
              "    </tr>\n",
              "    <tr>\n",
              "      <th>max</th>\n",
              "      <td>2.000000</td>\n",
              "      <td>5.000000</td>\n",
              "      <td>2.000000</td>\n",
              "      <td>3.000000</td>\n",
              "      <td>67.000000</td>\n",
              "      <td>3.000000</td>\n",
              "      <td>1316.000000</td>\n",
              "      <td>49.000000</td>\n",
              "      <td>45.000000</td>\n",
              "      <td>2.000000</td>\n",
              "    </tr>\n",
              "  </tbody>\n",
              "</table>\n",
              "</div>"
            ],
            "text/plain": [
              "         Email_Type  Subject_Hotness_Score  ...  Total_Images  Email_Status\n",
              "count  68353.000000           68353.000000  ...  66676.000000  68353.000000\n",
              "mean       1.285094               1.095481  ...      3.550678      0.230934\n",
              "std        0.451462               0.997578  ...      5.596983      0.497032\n",
              "min        1.000000               0.000000  ...      0.000000      0.000000\n",
              "25%        1.000000               0.200000  ...      0.000000      0.000000\n",
              "50%        1.000000               0.800000  ...      0.000000      0.000000\n",
              "75%        2.000000               1.800000  ...      5.000000      0.000000\n",
              "max        2.000000               5.000000  ...     45.000000      2.000000\n",
              "\n",
              "[8 rows x 10 columns]"
            ]
          },
          "metadata": {
            "tags": []
          },
          "execution_count": 68
        }
      ]
    },
    {
      "cell_type": "code",
      "metadata": {
        "colab": {
          "base_uri": "https://localhost:8080/"
        },
        "id": "HTvbMTc8WM75",
        "outputId": "15d2cab4-1e4d-4b4e-8b29-5dfc4405116c"
      },
      "source": [
        "# Checking for duplicates in the data\n",
        "len(df[df.duplicated()])\n"
      ],
      "execution_count": 69,
      "outputs": [
        {
          "output_type": "execute_result",
          "data": {
            "text/plain": [
              "0"
            ]
          },
          "metadata": {
            "tags": []
          },
          "execution_count": 69
        }
      ]
    },
    {
      "cell_type": "markdown",
      "metadata": {
        "id": "7EOYJc9-I5cm"
      },
      "source": [
        "Hence we can understand that there is no duplication in data. "
      ]
    },
    {
      "cell_type": "markdown",
      "metadata": {
        "id": "tujLqh_7g2Lr"
      },
      "source": [
        "### Understanding the relationship of the dependent variable with all features by correlation matrix and chi-2 test i.e feature importance."
      ]
    },
    {
      "cell_type": "markdown",
      "metadata": {
        "id": "PlOFPuxolBc8"
      },
      "source": [
        "####First converting the Customer_location into categorical data"
      ]
    },
    {
      "cell_type": "code",
      "metadata": {
        "id": "QuD1Z-g7lNk7"
      },
      "source": [
        "df['Customer_Location']=df['Customer_Location'].astype('category').cat.codes"
      ],
      "execution_count": 70,
      "outputs": []
    },
    {
      "cell_type": "markdown",
      "metadata": {
        "id": "RBG858m1nasl"
      },
      "source": [
        "## Checking for correlation between the target variable and feature variables using <b>correlation matrix</b> analysis "
      ]
    },
    {
      "cell_type": "code",
      "metadata": {
        "colab": {
          "base_uri": "https://localhost:8080/",
          "height": 631
        },
        "id": "xxPQxRpmhZTd",
        "outputId": "7537e637-d15b-4b1d-8143-cb96264b6b4b"
      },
      "source": [
        "## Entire data co-relation\n",
        "plt.figure(figsize=(15,8))\n",
        "correlation = df.corr()\n",
        "sns.heatmap(abs(correlation), annot=True, cmap='coolwarm')"
      ],
      "execution_count": 71,
      "outputs": [
        {
          "output_type": "execute_result",
          "data": {
            "text/plain": [
              "<matplotlib.axes._subplots.AxesSubplot at 0x7f61dee20fd0>"
            ]
          },
          "metadata": {
            "tags": []
          },
          "execution_count": 71
        },
        {
          "output_type": "display_data",
          "data": {
            "image/png": "[encoded data removed]",
            "text/plain": [
              "<Figure size 1080x576 with 2 Axes>"
            ]
          },
          "metadata": {
            "tags": [],
            "needs_background": "light"
          }
        }
      ]
    },
    {
      "cell_type": "code",
      "metadata": {
        "colab": {
          "base_uri": "https://localhost:8080/",
          "height": 297
        },
        "id": "u1dqcGDTMhc7",
        "outputId": "95031596-8d4f-404d-ba04-c29f3e489ec9"
      },
      "source": [
        "# Checking the data which has missing values of location\n",
        "check = df[df[\"Customer_Location\"].isnull()]\n",
        "sns.countplot(x='Email_Status',data=check)\n"
      ],
      "execution_count": null,
      "outputs": [
        {
          "output_type": "execute_result",
          "data": {
            "text/plain": [
              "<matplotlib.axes._subplots.AxesSubplot at 0x7f19d6f08490>"
            ]
          },
          "metadata": {
            "tags": []
          },
          "execution_count": 51
        },
        {
          "output_type": "display_data",
          "data": {
            "image/png": "[encoded data removed]",
            "text/plain": [
              "<Figure size 432x288 with 1 Axes>"
            ]
          },
          "metadata": {
            "tags": [],
            "needs_background": "light"
          }
        }
      ]
    },
    {
      "cell_type": "code",
      "metadata": {
        "colab": {
          "base_uri": "https://localhost:8080/",
          "height": 297
        },
        "id": "-OjJ9YDTk51y",
        "outputId": "003d49d9-7495-451f-fb8c-fc6f734d2b08"
      },
      "source": [
        "## Histogram of the data\n",
        "sns.countplot(x=\"Customer_Location\", hue=\"Email_Status\", data=df)"
      ],
      "execution_count": null,
      "outputs": [
        {
          "output_type": "execute_result",
          "data": {
            "text/plain": [
              "<matplotlib.axes._subplots.AxesSubplot at 0x7f19d69b77d0>"
            ]
          },
          "metadata": {
            "tags": []
          },
          "execution_count": 52
        },
        {
          "output_type": "display_data",
          "data": {
            "image/png": "[encoded data removed]",
            "text/plain": [
              "<Figure size 432x288 with 1 Axes>"
            ]
          },
          "metadata": {
            "tags": [],
            "needs_background": "light"
          }
        }
      ]
    },
    {
      "cell_type": "markdown",
      "metadata": {
        "id": "v_FZi0FYkjIQ"
      },
      "source": [
        "If you look at the above 2 visualizations, we can say that ratio of the overall data is same as the data with missing info value of Customer location. Also irrespective of the location the ratio of the statuses is similar in nature. \n",
        "\n",
        "From the correlation matrix we observe that Email_Status and Lcation are not highly co-related at all.\n",
        "\n",
        "Also thinking from an intuitive prespective for Email campaigning Location does not seem an important feature. Hence <b>deciding to drop Customer Location</b>."
      ]
    },
    {
      "cell_type": "code",
      "metadata": {
        "id": "NtFFXTDJmpfD"
      },
      "source": [
        "## Dropping the locations column\n",
        "df.drop(['Customer_Location'], axis='columns', inplace=True)"
      ],
      "execution_count": 74,
      "outputs": []
    },
    {
      "cell_type": "markdown",
      "metadata": {
        "id": "JiQ0IvJis344"
      },
      "source": [
        "Also, since the <b>ID field is of not much use, we will drop that as well</b>."
      ]
    },
    {
      "cell_type": "code",
      "metadata": {
        "id": "X4IwyloHs-7Q"
      },
      "source": [
        "df.drop(['Email_ID'], axis='columns', inplace=True)"
      ],
      "execution_count": 75,
      "outputs": []
    },
    {
      "cell_type": "markdown",
      "metadata": {
        "id": "Xixssia9vLFh"
      },
      "source": [
        "###Understanding the Numerical Variables"
      ]
    },
    {
      "cell_type": "code",
      "metadata": {
        "id": "EKddtiyEvUKJ"
      },
      "source": [
        "# Storing all the numeric features\n",
        "numerical_variables = [\"Subject_Hotness_Score\",\"Total_Past_Communications\",\"Word_Count\",\"Total_Links\",\"Total_Images\"]"
      ],
      "execution_count": 76,
      "outputs": []
    },
    {
      "cell_type": "code",
      "metadata": {
        "colab": {
          "base_uri": "https://localhost:8080/",
          "height": 543
        },
        "id": "JTDzNFEyvUNI",
        "outputId": "1bde32e4-688c-4202-c990-9cbc048fd23a"
      },
      "source": [
        "df[numerical_variables].hist(bins=15, figsize=(15, 6), layout=(2, 4))\n"
      ],
      "execution_count": 77,
      "outputs": [
        {
          "output_type": "execute_result",
          "data": {
            "text/plain": [
              "array([[<matplotlib.axes._subplots.AxesSubplot object at 0x7f61dcda9050>,\n",
              "        <matplotlib.axes._subplots.AxesSubplot object at 0x7f61dcdd5150>,\n",
              "        <matplotlib.axes._subplots.AxesSubplot object at 0x7f61dcd8b7d0>,\n",
              "        <matplotlib.axes._subplots.AxesSubplot object at 0x7f61dcd3fe50>],\n",
              "       [<matplotlib.axes._subplots.AxesSubplot object at 0x7f61dcd01510>,\n",
              "        <matplotlib.axes._subplots.AxesSubplot object at 0x7f61dccc2fd0>,\n",
              "        <matplotlib.axes._subplots.AxesSubplot object at 0x7f61dcc79210>,\n",
              "        <matplotlib.axes._subplots.AxesSubplot object at 0x7f61dcc2e890>]],\n",
              "      dtype=object)"
            ]
          },
          "metadata": {
            "tags": []
          },
          "execution_count": 77
        },
        {
          "output_type": "display_data",
          "data": {
            "image/png": "[encoded data removed]",
            "text/plain": [
              "<Figure size 1080x432 with 8 Axes>"
            ]
          },
          "metadata": {
            "tags": [],
            "needs_background": "light"
          }
        }
      ]
    },
    {
      "cell_type": "markdown",
      "metadata": {
        "id": "nhKdBKn-z8ze"
      },
      "source": [
        "* Total Images - Value ranges from 0-45. It is mostly right skewed and most of the emails have 0-2 images and very few have 10+ images.\n",
        "* Total Links - Value ranges from 1-49. Above 16 links are very few.\n",
        "* Both word_count and total_past_communication follow somewhat of a normal distribution.\n",
        "* Subject Hotness Score is rightly skewed. Most of it has values at or around the 0-0.3 mark.\n"
      ]
    },
    {
      "cell_type": "markdown",
      "metadata": {
        "id": "SpkKRT9XFgQ5"
      },
      "source": [
        "Lets fill all the missing values from the 3 numeric columns.\n",
        "Total_Links and Total_Images both are highly skewed to the right hence taking mode for bothof them.\n",
        "Total_Past Communication is kind of normally distributed and hence taking mean for that."
      ]
    },
    {
      "cell_type": "code",
      "metadata": {
        "id": "RSPKDoHNCXVv"
      },
      "source": [
        "# Replacing all of the missing values\n",
        "df['Total_Links'].fillna(int(df['Total_Links'].mode()), inplace=True)\n",
        "df['Total_Images'].fillna(int(df['Total_Images'].mode()), inplace=True)\n",
        "df['Total_Past_Communications'].fillna(int(df['Total_Past_Communications'].mean()), inplace=True)\n",
        "# df['Total_Links'].interpolate(method='polynomial',inplace=True)\n",
        "# df['Total_Images'].interpolate(method='polynomial',inplace=True)\n",
        "# df['Total_Past_Communications'].interpolate(method='polynomial',inplace=True)"
      ],
      "execution_count": 78,
      "outputs": []
    },
    {
      "cell_type": "code",
      "metadata": {
        "colab": {
          "base_uri": "https://localhost:8080/"
        },
        "id": "6eZIPT-_GUBJ",
        "outputId": "32135f95-0f8e-40d5-db98-82f30691bd63"
      },
      "source": [
        "df.info()"
      ],
      "execution_count": 79,
      "outputs": [
        {
          "output_type": "stream",
          "text": [
            "<class 'pandas.core.frame.DataFrame'>\n",
            "RangeIndex: 68353 entries, 0 to 68352\n",
            "Data columns (total 10 columns):\n",
            " #   Column                     Non-Null Count  Dtype  \n",
            "---  ------                     --------------  -----  \n",
            " 0   Email_Type                 68353 non-null  int64  \n",
            " 1   Subject_Hotness_Score      68353 non-null  float64\n",
            " 2   Email_Source_Type          68353 non-null  int64  \n",
            " 3   Email_Campaign_Type        68353 non-null  int64  \n",
            " 4   Total_Past_Communications  68353 non-null  float64\n",
            " 5   Time_Email_sent_Category   68353 non-null  int64  \n",
            " 6   Word_Count                 68353 non-null  int64  \n",
            " 7   Total_Links                68353 non-null  float64\n",
            " 8   Total_Images               68353 non-null  float64\n",
            " 9   Email_Status               68353 non-null  int64  \n",
            "dtypes: float64(4), int64(6)\n",
            "memory usage: 5.2 MB\n"
          ],
          "name": "stdout"
        }
      ]
    },
    {
      "cell_type": "code",
      "metadata": {
        "colab": {
          "base_uri": "https://localhost:8080/",
          "height": 505
        },
        "id": "aouHEJ2YGw-T",
        "outputId": "ff0e1375-3323-4c7a-9ec9-eac3edf2b212"
      },
      "source": [
        "df_numeric = df[numerical_variables]\n",
        "plt.figure(figsize=(15,8))\n",
        "correlation = df_numeric.corr()\n",
        "sns.heatmap(abs(correlation), annot=True, cmap='coolwarm')"
      ],
      "execution_count": 80,
      "outputs": [
        {
          "output_type": "execute_result",
          "data": {
            "text/plain": [
              "<matplotlib.axes._subplots.AxesSubplot at 0x7f61dcaf1d90>"
            ]
          },
          "metadata": {
            "tags": []
          },
          "execution_count": 80
        },
        {
          "output_type": "display_data",
          "data": {
            "image/png": "[encoded data removed]",
            "text/plain": [
              "<Figure size 1080x576 with 2 Axes>"
            ]
          },
          "metadata": {
            "tags": [],
            "needs_background": "light"
          }
        }
      ]
    },
    {
      "cell_type": "code",
      "metadata": {
        "colab": {
          "base_uri": "https://localhost:8080/",
          "height": 297
        },
        "id": "1oHnUjTeqtwe",
        "outputId": "4e7f7a87-da01-4f7c-fb2b-202c1b4f513e"
      },
      "source": [
        "sns.boxplot(x=df[\"Total_Images\"])"
      ],
      "execution_count": 81,
      "outputs": [
        {
          "output_type": "execute_result",
          "data": {
            "text/plain": [
              "<matplotlib.axes._subplots.AxesSubplot at 0x7f61de712190>"
            ]
          },
          "metadata": {
            "tags": []
          },
          "execution_count": 81
        },
        {
          "output_type": "display_data",
          "data": {
            "image/png": "[encoded data removed]",
            "text/plain": [
              "<Figure size 432x288 with 1 Axes>"
            ]
          },
          "metadata": {
            "tags": [],
            "needs_background": "light"
          }
        }
      ]
    },
    {
      "cell_type": "code",
      "metadata": {
        "colab": {
          "base_uri": "https://localhost:8080/",
          "height": 297
        },
        "id": "p5l2Juozq2Eu",
        "outputId": "5cb0cab0-4383-4f5d-8774-3448282ed202"
      },
      "source": [
        "sns.boxplot(x=df[\"Total_Links\"])"
      ],
      "execution_count": 82,
      "outputs": [
        {
          "output_type": "execute_result",
          "data": {
            "text/plain": [
              "<matplotlib.axes._subplots.AxesSubplot at 0x7f61dca0d490>"
            ]
          },
          "metadata": {
            "tags": []
          },
          "execution_count": 82
        },
        {
          "output_type": "display_data",
          "data": {
            "image/png": "[encoded data removed]",
            "text/plain": [
              "<Figure size 432x288 with 1 Axes>"
            ]
          },
          "metadata": {
            "tags": [],
            "needs_background": "light"
          }
        }
      ]
    },
    {
      "cell_type": "markdown",
      "metadata": {
        "id": "pyn6j9IftTEW"
      },
      "source": [
        "Here we can observe very high multicollinearity between 2 features i.e. total_images as well as total_links. \n",
        "\n",
        "Also we see that Total_Images have a lot of outlier values.\n",
        "\n",
        "Hence <b>combining the Total_Images feature and the Total_Links</b>"
      ]
    },
    {
      "cell_type": "code",
      "metadata": {
        "id": "7f0O46RcHDKe"
      },
      "source": [
        "## Dropping Total_Images\n",
        "df['Total Attributes'] = df['Total_Images'] + df['Total_Links']\n",
        "df.drop(['Total_Images'], axis='columns', inplace=True)\n",
        "df.drop(['Total_Links'], axis='columns', inplace=True)\n"
      ],
      "execution_count": 83,
      "outputs": []
    },
    {
      "cell_type": "code",
      "metadata": {
        "id": "F4l1TDUeHr0L"
      },
      "source": [
        "#Multicollinearity\n",
        "from statsmodels.stats.outliers_influence import variance_inflation_factor\n",
        "def calc_vif(X):\n",
        "\n",
        "    # Calculating VIF\n",
        "    vif = pd.DataFrame()\n",
        "    vif[\"variables\"] = X.columns\n",
        "    vif[\"VIF\"] = [variance_inflation_factor(X.values, i) for i in range(X.shape[1])]\n",
        "\n",
        "    return(vif)"
      ],
      "execution_count": 84,
      "outputs": []
    },
    {
      "cell_type": "code",
      "metadata": {
        "colab": {
          "base_uri": "https://localhost:8080/",
          "height": 204
        },
        "id": "r6DpMYZrIVeI",
        "outputId": "40432061-1b95-4b9c-9e5a-236847c5a1ff"
      },
      "source": [
        "calc_vif(df[[i for i in df.describe().columns if i not in ['Email_ID','Email_Type','Email_Source_Type','Email_Campaign_Type','Time_Email_sent_Category']]])"
      ],
      "execution_count": 85,
      "outputs": [
        {
          "output_type": "execute_result",
          "data": {
            "text/html": [
              "<div>\n",
              "<style scoped>\n",
              "    .dataframe tbody tr th:only-of-type {\n",
              "        vertical-align: middle;\n",
              "    }\n",
              "\n",
              "    .dataframe tbody tr th {\n",
              "        vertical-align: top;\n",
              "    }\n",
              "\n",
              "    .dataframe thead th {\n",
              "        text-align: right;\n",
              "    }\n",
              "</style>\n",
              "<table border=\"1\" class=\"dataframe\">\n",
              "  <thead>\n",
              "    <tr style=\"text-align: right;\">\n",
              "      <th></th>\n",
              "      <th>variables</th>\n",
              "      <th>VIF</th>\n",
              "    </tr>\n",
              "  </thead>\n",
              "  <tbody>\n",
              "    <tr>\n",
              "      <th>0</th>\n",
              "      <td>Subject_Hotness_Score</td>\n",
              "      <td>1.736461</td>\n",
              "    </tr>\n",
              "    <tr>\n",
              "      <th>1</th>\n",
              "      <td>Total_Past_Communications</td>\n",
              "      <td>3.890866</td>\n",
              "    </tr>\n",
              "    <tr>\n",
              "      <th>2</th>\n",
              "      <td>Word_Count</td>\n",
              "      <td>3.695653</td>\n",
              "    </tr>\n",
              "    <tr>\n",
              "      <th>3</th>\n",
              "      <td>Email_Status</td>\n",
              "      <td>1.296849</td>\n",
              "    </tr>\n",
              "    <tr>\n",
              "      <th>4</th>\n",
              "      <td>Total Attributes</td>\n",
              "      <td>2.630441</td>\n",
              "    </tr>\n",
              "  </tbody>\n",
              "</table>\n",
              "</div>"
            ],
            "text/plain": [
              "                   variables       VIF\n",
              "0      Subject_Hotness_Score  1.736461\n",
              "1  Total_Past_Communications  3.890866\n",
              "2                 Word_Count  3.695653\n",
              "3               Email_Status  1.296849\n",
              "4           Total Attributes  2.630441"
            ]
          },
          "metadata": {
            "tags": []
          },
          "execution_count": 85
        }
      ]
    },
    {
      "cell_type": "markdown",
      "metadata": {
        "id": "m9lUmVhNJGUx"
      },
      "source": [
        "Hence we can observe that multicollinearity is within limits as well."
      ]
    },
    {
      "cell_type": "markdown",
      "metadata": {
        "id": "6_m-DrQzJw5j"
      },
      "source": [
        "Lets now observe the presence of any outliers:"
      ]
    },
    {
      "cell_type": "code",
      "metadata": {
        "colab": {
          "base_uri": "https://localhost:8080/",
          "height": 297
        },
        "id": "F8cXOfPvIVhE",
        "outputId": "bf3fbb68-76e4-41ed-bda4-62304e1864b7"
      },
      "source": [
        "sns.boxplot(x=df[\"Subject_Hotness_Score\"])"
      ],
      "execution_count": 18,
      "outputs": [
        {
          "output_type": "execute_result",
          "data": {
            "text/plain": [
              "<matplotlib.axes._subplots.AxesSubplot at 0x7f61e1b1ee10>"
            ]
          },
          "metadata": {
            "tags": []
          },
          "execution_count": 18
        },
        {
          "output_type": "display_data",
          "data": {
            "image/png": "[encoded data removed]",
            "text/plain": [
              "<Figure size 432x288 with 1 Axes>"
            ]
          },
          "metadata": {
            "tags": [],
            "needs_background": "light"
          }
        }
      ]
    },
    {
      "cell_type": "code",
      "metadata": {
        "colab": {
          "base_uri": "https://localhost:8080/",
          "height": 297
        },
        "id": "l0mZbC_NIVj9",
        "outputId": "13966cff-f2f7-4fbe-d232-2cb59e5217f4"
      },
      "source": [
        "sns.boxplot(x=df[\"Total_Past_Communications\"])"
      ],
      "execution_count": 19,
      "outputs": [
        {
          "output_type": "execute_result",
          "data": {
            "text/plain": [
              "<matplotlib.axes._subplots.AxesSubplot at 0x7f61e1b0c810>"
            ]
          },
          "metadata": {
            "tags": []
          },
          "execution_count": 19
        },
        {
          "output_type": "display_data",
          "data": {
            "image/png": "[encoded data removed]",
            "text/plain": [
              "<Figure size 432x288 with 1 Axes>"
            ]
          },
          "metadata": {
            "tags": [],
            "needs_background": "light"
          }
        }
      ]
    },
    {
      "cell_type": "code",
      "metadata": {
        "colab": {
          "base_uri": "https://localhost:8080/",
          "height": 297
        },
        "id": "18B2fdEcIVmg",
        "outputId": "1ecce513-902d-42da-bef4-274c184e57c4"
      },
      "source": [
        "sns.boxplot(x=df[\"Word_Count\"])"
      ],
      "execution_count": 20,
      "outputs": [
        {
          "output_type": "execute_result",
          "data": {
            "text/plain": [
              "<matplotlib.axes._subplots.AxesSubplot at 0x7f61e1a66c10>"
            ]
          },
          "metadata": {
            "tags": []
          },
          "execution_count": 20
        },
        {
          "output_type": "display_data",
          "data": {
            "image/png": "[encoded data removed]",
            "text/plain": [
              "<Figure size 432x288 with 1 Axes>"
            ]
          },
          "metadata": {
            "tags": [],
            "needs_background": "light"
          }
        }
      ]
    },
    {
      "cell_type": "code",
      "metadata": {
        "colab": {
          "base_uri": "https://localhost:8080/",
          "height": 296
        },
        "id": "EnsM_dxdIVph",
        "outputId": "3acc7a7e-0b6f-4930-84ea-51cab5f98e02"
      },
      "source": [
        "sns.boxplot(x=df[\"Total Attributes\"])"
      ],
      "execution_count": 21,
      "outputs": [
        {
          "output_type": "execute_result",
          "data": {
            "text/plain": [
              "<matplotlib.axes._subplots.AxesSubplot at 0x7f61e1a384d0>"
            ]
          },
          "metadata": {
            "tags": []
          },
          "execution_count": 21
        },
        {
          "output_type": "display_data",
          "data": {
            "image/png": "[encoded data removed]",
            "text/plain": [
              "<Figure size 432x288 with 1 Axes>"
            ]
          },
          "metadata": {
            "tags": [],
            "needs_background": "light"
          }
        }
      ]
    },
    {
      "cell_type": "markdown",
      "metadata": {
        "id": "yKTOHQ71kcL4"
      },
      "source": [
        "Lets remove these outliers using the Z-score parameter."
      ]
    },
    {
      "cell_type": "code",
      "metadata": {
        "id": "cHsvYAKkIVsg"
      },
      "source": [
        "# Removal of outliers\n",
        "z_scores = stats.zscore(df[[\"Subject_Hotness_Score\",\"Total_Past_Communications\",\"Word_Count\",\"Total Attributes\"]])\n",
        "abs_z_scores = np.abs(z_scores)\n",
        "filtered_entries = (abs_z_scores < 2.85).all(axis=1)\n",
        "new_df = df[filtered_entries]"
      ],
      "execution_count": 86,
      "outputs": []
    },
    {
      "cell_type": "code",
      "metadata": {
        "colab": {
          "base_uri": "https://localhost:8080/",
          "height": 297
        },
        "id": "iyDDvjRWIVvF",
        "outputId": "9a9e2e6f-fd46-445f-f03c-0576ecae4331"
      },
      "source": [
        "sns.boxplot(x=new_df[\"Subject_Hotness_Score\"])"
      ],
      "execution_count": 87,
      "outputs": [
        {
          "output_type": "execute_result",
          "data": {
            "text/plain": [
              "<matplotlib.axes._subplots.AxesSubplot at 0x7f61dc8662d0>"
            ]
          },
          "metadata": {
            "tags": []
          },
          "execution_count": 87
        },
        {
          "output_type": "display_data",
          "data": {
            "image/png": "[encoded data removed]",
            "text/plain": [
              "<Figure size 432x288 with 1 Axes>"
            ]
          },
          "metadata": {
            "tags": [],
            "needs_background": "light"
          }
        }
      ]
    },
    {
      "cell_type": "code",
      "metadata": {
        "colab": {
          "base_uri": "https://localhost:8080/",
          "height": 297
        },
        "id": "hYdpCQ4xIVxz",
        "outputId": "175f5dc0-2016-4c60-b407-89377169fad8"
      },
      "source": [
        "sns.boxplot(x=new_df[\"Total_Past_Communications\"])"
      ],
      "execution_count": 88,
      "outputs": [
        {
          "output_type": "execute_result",
          "data": {
            "text/plain": [
              "<matplotlib.axes._subplots.AxesSubplot at 0x7f61dc832ad0>"
            ]
          },
          "metadata": {
            "tags": []
          },
          "execution_count": 88
        },
        {
          "output_type": "display_data",
          "data": {
            "image/png": "[encoded data removed]",
            "text/plain": [
              "<Figure size 432x288 with 1 Axes>"
            ]
          },
          "metadata": {
            "tags": [],
            "needs_background": "light"
          }
        }
      ]
    },
    {
      "cell_type": "code",
      "metadata": {
        "colab": {
          "base_uri": "https://localhost:8080/",
          "height": 297
        },
        "id": "VL_db4Jmi3bI",
        "outputId": "ed8813a3-fd37-43fc-f097-80afdcdb6427"
      },
      "source": [
        "sns.boxplot(x=new_df[\"Word_Count\"])"
      ],
      "execution_count": 89,
      "outputs": [
        {
          "output_type": "execute_result",
          "data": {
            "text/plain": [
              "<matplotlib.axes._subplots.AxesSubplot at 0x7f61dc7c4090>"
            ]
          },
          "metadata": {
            "tags": []
          },
          "execution_count": 89
        },
        {
          "output_type": "display_data",
          "data": {
            "image/png": "[encoded data removed]",
            "text/plain": [
              "<Figure size 432x288 with 1 Axes>"
            ]
          },
          "metadata": {
            "tags": [],
            "needs_background": "light"
          }
        }
      ]
    },
    {
      "cell_type": "code",
      "metadata": {
        "colab": {
          "base_uri": "https://localhost:8080/",
          "height": 296
        },
        "id": "7XnBVWQji3i8",
        "outputId": "253283a9-fbaf-434d-883a-498727dc09f0"
      },
      "source": [
        "sns.boxplot(x=new_df[\"Total Attributes\"])"
      ],
      "execution_count": 90,
      "outputs": [
        {
          "output_type": "execute_result",
          "data": {
            "text/plain": [
              "<matplotlib.axes._subplots.AxesSubplot at 0x7f61dc72f490>"
            ]
          },
          "metadata": {
            "tags": []
          },
          "execution_count": 90
        },
        {
          "output_type": "display_data",
          "data": {
            "image/png": "[encoded data removed]",
            "text/plain": [
              "<Figure size 432x288 with 1 Axes>"
            ]
          },
          "metadata": {
            "tags": [],
            "needs_background": "light"
          }
        }
      ]
    },
    {
      "cell_type": "markdown",
      "metadata": {
        "id": "9NSMZI8PmWps"
      },
      "source": [
        "The new df after most of the outlier treatment consists of close to 66K records."
      ]
    },
    {
      "cell_type": "code",
      "metadata": {
        "colab": {
          "base_uri": "https://localhost:8080/"
        },
        "id": "0ELxum2pi3pN",
        "outputId": "d8cd627e-0d6a-4130-fea0-87030fe9bc0f"
      },
      "source": [
        "new_df.shape"
      ],
      "execution_count": 91,
      "outputs": [
        {
          "output_type": "execute_result",
          "data": {
            "text/plain": [
              "(66024, 9)"
            ]
          },
          "metadata": {
            "tags": []
          },
          "execution_count": 91
        }
      ]
    },
    {
      "cell_type": "code",
      "metadata": {
        "colab": {
          "base_uri": "https://localhost:8080/",
          "height": 241
        },
        "id": "yz3Qk9JIi3r-",
        "outputId": "6775f663-7290-4371-f840-7063d9f6fbd4"
      },
      "source": [
        "new_df.head()"
      ],
      "execution_count": 92,
      "outputs": [
        {
          "output_type": "execute_result",
          "data": {
            "text/html": [
              "<div>\n",
              "<style scoped>\n",
              "    .dataframe tbody tr th:only-of-type {\n",
              "        vertical-align: middle;\n",
              "    }\n",
              "\n",
              "    .dataframe tbody tr th {\n",
              "        vertical-align: top;\n",
              "    }\n",
              "\n",
              "    .dataframe thead th {\n",
              "        text-align: right;\n",
              "    }\n",
              "</style>\n",
              "<table border=\"1\" class=\"dataframe\">\n",
              "  <thead>\n",
              "    <tr style=\"text-align: right;\">\n",
              "      <th></th>\n",
              "      <th>Email_Type</th>\n",
              "      <th>Subject_Hotness_Score</th>\n",
              "      <th>Email_Source_Type</th>\n",
              "      <th>Email_Campaign_Type</th>\n",
              "      <th>Total_Past_Communications</th>\n",
              "      <th>Time_Email_sent_Category</th>\n",
              "      <th>Word_Count</th>\n",
              "      <th>Email_Status</th>\n",
              "      <th>Total Attributes</th>\n",
              "    </tr>\n",
              "  </thead>\n",
              "  <tbody>\n",
              "    <tr>\n",
              "      <th>0</th>\n",
              "      <td>1</td>\n",
              "      <td>2.2</td>\n",
              "      <td>2</td>\n",
              "      <td>2</td>\n",
              "      <td>33.0</td>\n",
              "      <td>1</td>\n",
              "      <td>440</td>\n",
              "      <td>0</td>\n",
              "      <td>8.0</td>\n",
              "    </tr>\n",
              "    <tr>\n",
              "      <th>1</th>\n",
              "      <td>2</td>\n",
              "      <td>2.1</td>\n",
              "      <td>1</td>\n",
              "      <td>2</td>\n",
              "      <td>15.0</td>\n",
              "      <td>2</td>\n",
              "      <td>504</td>\n",
              "      <td>0</td>\n",
              "      <td>5.0</td>\n",
              "    </tr>\n",
              "    <tr>\n",
              "      <th>2</th>\n",
              "      <td>2</td>\n",
              "      <td>0.1</td>\n",
              "      <td>1</td>\n",
              "      <td>3</td>\n",
              "      <td>36.0</td>\n",
              "      <td>2</td>\n",
              "      <td>962</td>\n",
              "      <td>1</td>\n",
              "      <td>5.0</td>\n",
              "    </tr>\n",
              "    <tr>\n",
              "      <th>3</th>\n",
              "      <td>1</td>\n",
              "      <td>3.0</td>\n",
              "      <td>2</td>\n",
              "      <td>2</td>\n",
              "      <td>25.0</td>\n",
              "      <td>2</td>\n",
              "      <td>610</td>\n",
              "      <td>0</td>\n",
              "      <td>16.0</td>\n",
              "    </tr>\n",
              "    <tr>\n",
              "      <th>4</th>\n",
              "      <td>1</td>\n",
              "      <td>0.0</td>\n",
              "      <td>2</td>\n",
              "      <td>3</td>\n",
              "      <td>18.0</td>\n",
              "      <td>2</td>\n",
              "      <td>947</td>\n",
              "      <td>0</td>\n",
              "      <td>4.0</td>\n",
              "    </tr>\n",
              "  </tbody>\n",
              "</table>\n",
              "</div>"
            ],
            "text/plain": [
              "   Email_Type  Subject_Hotness_Score  ...  Email_Status  Total Attributes\n",
              "0           1                    2.2  ...             0               8.0\n",
              "1           2                    2.1  ...             0               5.0\n",
              "2           2                    0.1  ...             1               5.0\n",
              "3           1                    3.0  ...             0              16.0\n",
              "4           1                    0.0  ...             0               4.0\n",
              "\n",
              "[5 rows x 9 columns]"
            ]
          },
          "metadata": {
            "tags": []
          },
          "execution_count": 92
        }
      ]
    },
    {
      "cell_type": "markdown",
      "metadata": {
        "id": "g__Y1G6wMf07"
      },
      "source": [
        "### Understanding the Categorical Variables\n"
      ]
    },
    {
      "cell_type": "code",
      "metadata": {
        "id": "Vq_ENn4ZL1rB"
      },
      "source": [
        "categorical_features = [\"Email_Type\",\"Email_Source_Type\",\"Email_Campaign_Type\",\"Time_Email_sent_Category\"]"
      ],
      "execution_count": 93,
      "outputs": []
    },
    {
      "cell_type": "code",
      "metadata": {
        "colab": {
          "base_uri": "https://localhost:8080/",
          "height": 759
        },
        "id": "SOGpedEVMF44",
        "outputId": "7b8b82c8-5b9d-4bce-f518-d107fd5ed625"
      },
      "source": [
        "fig, ax = plt.subplots(1, 4, figsize=(20, 10))\n",
        "for variable, subplot in zip(categorical_features, ax.flatten()):\n",
        "    sns.countplot(df[variable], ax=subplot)\n",
        "    for label in subplot.get_xticklabels():\n",
        "        label.set_rotation(90)"
      ],
      "execution_count": 94,
      "outputs": [
        {
          "output_type": "stream",
          "text": [
            "/usr/local/lib/python3.7/dist-packages/seaborn/_decorators.py:43: FutureWarning: Pass the following variable as a keyword arg: x. From version 0.12, the only valid positional argument will be `data`, and passing other arguments without an explicit keyword will result in an error or misinterpretation.\n",
            "  FutureWarning\n",
            "/usr/local/lib/python3.7/dist-packages/seaborn/_decorators.py:43: FutureWarning: Pass the following variable as a keyword arg: x. From version 0.12, the only valid positional argument will be `data`, and passing other arguments without an explicit keyword will result in an error or misinterpretation.\n",
            "  FutureWarning\n",
            "/usr/local/lib/python3.7/dist-packages/seaborn/_decorators.py:43: FutureWarning: Pass the following variable as a keyword arg: x. From version 0.12, the only valid positional argument will be `data`, and passing other arguments without an explicit keyword will result in an error or misinterpretation.\n",
            "  FutureWarning\n",
            "/usr/local/lib/python3.7/dist-packages/seaborn/_decorators.py:43: FutureWarning: Pass the following variable as a keyword arg: x. From version 0.12, the only valid positional argument will be `data`, and passing other arguments without an explicit keyword will result in an error or misinterpretation.\n",
            "  FutureWarning\n"
          ],
          "name": "stderr"
        },
        {
          "output_type": "display_data",
          "data": {
            "image/png": "[encoded data removed]",
            "text/plain": [
              "<Figure size 1440x720 with 4 Axes>"
            ]
          },
          "metadata": {
            "tags": [],
            "needs_background": "light"
          }
        }
      ]
    },
    {
      "cell_type": "markdown",
      "metadata": {
        "id": "lLzEs_cLrkIe"
      },
      "source": [
        "* We can see one of the Email type 1 is significantly more than Email Type 2.\n",
        "* We observe that both the sources send out emails equally.\n",
        "* Considering Time_Email_sent category 2 has extreme high numbers whereas 1 and 2 have comparable number.\n",
        "* Finally considering Email_Campaign_Type, 2 outperforms the the other campign types in terms of quantity, while 1 sends out the least no.of mails."
      ]
    },
    {
      "cell_type": "markdown",
      "metadata": {
        "id": "j8k-9Sq4xbfY"
      },
      "source": [
        "Using the One-hot encoding method to handle the categorical data."
      ]
    },
    {
      "cell_type": "code",
      "metadata": {
        "id": "nohthz7LqGqH"
      },
      "source": [
        "new_df = pd.get_dummies(new_df, columns= categorical_features, prefix=[\"Email_Type\", \"Source\",\"Campaign\",\"Time_Sent\"])"
      ],
      "execution_count": 95,
      "outputs": []
    },
    {
      "cell_type": "code",
      "metadata": {
        "colab": {
          "base_uri": "https://localhost:8080/",
          "height": 456
        },
        "id": "iB0B2nbhqGs1",
        "outputId": "055e75a9-122e-42f5-abb5-f990140ae0a3"
      },
      "source": [
        "new_df"
      ],
      "execution_count": 96,
      "outputs": [
        {
          "output_type": "execute_result",
          "data": {
            "text/html": [
              "<div>\n",
              "<style scoped>\n",
              "    .dataframe tbody tr th:only-of-type {\n",
              "        vertical-align: middle;\n",
              "    }\n",
              "\n",
              "    .dataframe tbody tr th {\n",
              "        vertical-align: top;\n",
              "    }\n",
              "\n",
              "    .dataframe thead th {\n",
              "        text-align: right;\n",
              "    }\n",
              "</style>\n",
              "<table border=\"1\" class=\"dataframe\">\n",
              "  <thead>\n",
              "    <tr style=\"text-align: right;\">\n",
              "      <th></th>\n",
              "      <th>Subject_Hotness_Score</th>\n",
              "      <th>Total_Past_Communications</th>\n",
              "      <th>Word_Count</th>\n",
              "      <th>Email_Status</th>\n",
              "      <th>Total Attributes</th>\n",
              "      <th>Email_Type_1</th>\n",
              "      <th>Email_Type_2</th>\n",
              "      <th>Source_1</th>\n",
              "      <th>Source_2</th>\n",
              "      <th>Campaign_1</th>\n",
              "      <th>Campaign_2</th>\n",
              "      <th>Campaign_3</th>\n",
              "      <th>Time_Sent_1</th>\n",
              "      <th>Time_Sent_2</th>\n",
              "      <th>Time_Sent_3</th>\n",
              "    </tr>\n",
              "  </thead>\n",
              "  <tbody>\n",
              "    <tr>\n",
              "      <th>0</th>\n",
              "      <td>2.2</td>\n",
              "      <td>33.0</td>\n",
              "      <td>440</td>\n",
              "      <td>0</td>\n",
              "      <td>8.0</td>\n",
              "      <td>1</td>\n",
              "      <td>0</td>\n",
              "      <td>0</td>\n",
              "      <td>1</td>\n",
              "      <td>0</td>\n",
              "      <td>1</td>\n",
              "      <td>0</td>\n",
              "      <td>1</td>\n",
              "      <td>0</td>\n",
              "      <td>0</td>\n",
              "    </tr>\n",
              "    <tr>\n",
              "      <th>1</th>\n",
              "      <td>2.1</td>\n",
              "      <td>15.0</td>\n",
              "      <td>504</td>\n",
              "      <td>0</td>\n",
              "      <td>5.0</td>\n",
              "      <td>0</td>\n",
              "      <td>1</td>\n",
              "      <td>1</td>\n",
              "      <td>0</td>\n",
              "      <td>0</td>\n",
              "      <td>1</td>\n",
              "      <td>0</td>\n",
              "      <td>0</td>\n",
              "      <td>1</td>\n",
              "      <td>0</td>\n",
              "    </tr>\n",
              "    <tr>\n",
              "      <th>2</th>\n",
              "      <td>0.1</td>\n",
              "      <td>36.0</td>\n",
              "      <td>962</td>\n",
              "      <td>1</td>\n",
              "      <td>5.0</td>\n",
              "      <td>0</td>\n",
              "      <td>1</td>\n",
              "      <td>1</td>\n",
              "      <td>0</td>\n",
              "      <td>0</td>\n",
              "      <td>0</td>\n",
              "      <td>1</td>\n",
              "      <td>0</td>\n",
              "      <td>1</td>\n",
              "      <td>0</td>\n",
              "    </tr>\n",
              "    <tr>\n",
              "      <th>3</th>\n",
              "      <td>3.0</td>\n",
              "      <td>25.0</td>\n",
              "      <td>610</td>\n",
              "      <td>0</td>\n",
              "      <td>16.0</td>\n",
              "      <td>1</td>\n",
              "      <td>0</td>\n",
              "      <td>0</td>\n",
              "      <td>1</td>\n",
              "      <td>0</td>\n",
              "      <td>1</td>\n",
              "      <td>0</td>\n",
              "      <td>0</td>\n",
              "      <td>1</td>\n",
              "      <td>0</td>\n",
              "    </tr>\n",
              "    <tr>\n",
              "      <th>4</th>\n",
              "      <td>0.0</td>\n",
              "      <td>18.0</td>\n",
              "      <td>947</td>\n",
              "      <td>0</td>\n",
              "      <td>4.0</td>\n",
              "      <td>1</td>\n",
              "      <td>0</td>\n",
              "      <td>0</td>\n",
              "      <td>1</td>\n",
              "      <td>0</td>\n",
              "      <td>0</td>\n",
              "      <td>1</td>\n",
              "      <td>0</td>\n",
              "      <td>1</td>\n",
              "      <td>0</td>\n",
              "    </tr>\n",
              "    <tr>\n",
              "      <th>...</th>\n",
              "      <td>...</td>\n",
              "      <td>...</td>\n",
              "      <td>...</td>\n",
              "      <td>...</td>\n",
              "      <td>...</td>\n",
              "      <td>...</td>\n",
              "      <td>...</td>\n",
              "      <td>...</td>\n",
              "      <td>...</td>\n",
              "      <td>...</td>\n",
              "      <td>...</td>\n",
              "      <td>...</td>\n",
              "      <td>...</td>\n",
              "      <td>...</td>\n",
              "      <td>...</td>\n",
              "    </tr>\n",
              "    <tr>\n",
              "      <th>68347</th>\n",
              "      <td>0.0</td>\n",
              "      <td>32.0</td>\n",
              "      <td>1173</td>\n",
              "      <td>2</td>\n",
              "      <td>9.0</td>\n",
              "      <td>1</td>\n",
              "      <td>0</td>\n",
              "      <td>0</td>\n",
              "      <td>1</td>\n",
              "      <td>0</td>\n",
              "      <td>0</td>\n",
              "      <td>1</td>\n",
              "      <td>0</td>\n",
              "      <td>0</td>\n",
              "      <td>1</td>\n",
              "    </tr>\n",
              "    <tr>\n",
              "      <th>68348</th>\n",
              "      <td>0.4</td>\n",
              "      <td>22.0</td>\n",
              "      <td>737</td>\n",
              "      <td>0</td>\n",
              "      <td>29.0</td>\n",
              "      <td>0</td>\n",
              "      <td>1</td>\n",
              "      <td>1</td>\n",
              "      <td>0</td>\n",
              "      <td>0</td>\n",
              "      <td>1</td>\n",
              "      <td>0</td>\n",
              "      <td>0</td>\n",
              "      <td>0</td>\n",
              "      <td>1</td>\n",
              "    </tr>\n",
              "    <tr>\n",
              "      <th>68350</th>\n",
              "      <td>2.2</td>\n",
              "      <td>33.0</td>\n",
              "      <td>490</td>\n",
              "      <td>0</td>\n",
              "      <td>9.0</td>\n",
              "      <td>1</td>\n",
              "      <td>0</td>\n",
              "      <td>0</td>\n",
              "      <td>1</td>\n",
              "      <td>0</td>\n",
              "      <td>1</td>\n",
              "      <td>0</td>\n",
              "      <td>0</td>\n",
              "      <td>1</td>\n",
              "      <td>0</td>\n",
              "    </tr>\n",
              "    <tr>\n",
              "      <th>68351</th>\n",
              "      <td>0.4</td>\n",
              "      <td>50.0</td>\n",
              "      <td>733</td>\n",
              "      <td>0</td>\n",
              "      <td>18.0</td>\n",
              "      <td>1</td>\n",
              "      <td>0</td>\n",
              "      <td>1</td>\n",
              "      <td>0</td>\n",
              "      <td>0</td>\n",
              "      <td>1</td>\n",
              "      <td>0</td>\n",
              "      <td>1</td>\n",
              "      <td>0</td>\n",
              "      <td>0</td>\n",
              "    </tr>\n",
              "    <tr>\n",
              "      <th>68352</th>\n",
              "      <td>1.5</td>\n",
              "      <td>20.0</td>\n",
              "      <td>1038</td>\n",
              "      <td>0</td>\n",
              "      <td>6.0</td>\n",
              "      <td>1</td>\n",
              "      <td>0</td>\n",
              "      <td>1</td>\n",
              "      <td>0</td>\n",
              "      <td>0</td>\n",
              "      <td>1</td>\n",
              "      <td>0</td>\n",
              "      <td>0</td>\n",
              "      <td>1</td>\n",
              "      <td>0</td>\n",
              "    </tr>\n",
              "  </tbody>\n",
              "</table>\n",
              "<p>66024 rows × 15 columns</p>\n",
              "</div>"
            ],
            "text/plain": [
              "       Subject_Hotness_Score  ...  Time_Sent_3\n",
              "0                        2.2  ...            0\n",
              "1                        2.1  ...            0\n",
              "2                        0.1  ...            0\n",
              "3                        3.0  ...            0\n",
              "4                        0.0  ...            0\n",
              "...                      ...  ...          ...\n",
              "68347                    0.0  ...            1\n",
              "68348                    0.4  ...            1\n",
              "68350                    2.2  ...            0\n",
              "68351                    0.4  ...            0\n",
              "68352                    1.5  ...            0\n",
              "\n",
              "[66024 rows x 15 columns]"
            ]
          },
          "metadata": {
            "tags": []
          },
          "execution_count": 96
        }
      ]
    },
    {
      "cell_type": "markdown",
      "metadata": {
        "id": "L_G-jP5jgA3I"
      },
      "source": [
        "We understand that since Email_Type and Source are both binary variables, we can eliminate one of each of the two features for feature reduction process.\n",
        "\n",
        "Hence removing Email_Type_2 and Source_2."
      ]
    },
    {
      "cell_type": "code",
      "metadata": {
        "id": "rKWOjo80s6Ab"
      },
      "source": [
        "new_df.drop(['Email_Type_2'], axis='columns', inplace=True)\n",
        "new_df.drop(['Source_2'], axis='columns', inplace=True)"
      ],
      "execution_count": 97,
      "outputs": []
    },
    {
      "cell_type": "markdown",
      "metadata": {
        "id": "7miYXPEOg99X"
      },
      "source": [
        "Also from our understanding of the features importance metrics, we understand that the time also does not have much importance to our data."
      ]
    },
    {
      "cell_type": "code",
      "metadata": {
        "id": "DousLjDEg0wb"
      },
      "source": [
        "new_df.drop(['Time_Sent_1'], axis='columns', inplace=True)\n",
        "new_df.drop(['Time_Sent_2'], axis='columns', inplace=True)\n",
        "new_df.drop(['Time_Sent_3'], axis='columns', inplace=True)"
      ],
      "execution_count": 98,
      "outputs": []
    },
    {
      "cell_type": "code",
      "metadata": {
        "colab": {
          "base_uri": "https://localhost:8080/",
          "height": 204
        },
        "id": "6DIYaDiMhV-N",
        "outputId": "a1d2676a-0f53-438a-9aff-3fa34051d1de"
      },
      "source": [
        "new_df.head()"
      ],
      "execution_count": 99,
      "outputs": [
        {
          "output_type": "execute_result",
          "data": {
            "text/html": [
              "<div>\n",
              "<style scoped>\n",
              "    .dataframe tbody tr th:only-of-type {\n",
              "        vertical-align: middle;\n",
              "    }\n",
              "\n",
              "    .dataframe tbody tr th {\n",
              "        vertical-align: top;\n",
              "    }\n",
              "\n",
              "    .dataframe thead th {\n",
              "        text-align: right;\n",
              "    }\n",
              "</style>\n",
              "<table border=\"1\" class=\"dataframe\">\n",
              "  <thead>\n",
              "    <tr style=\"text-align: right;\">\n",
              "      <th></th>\n",
              "      <th>Subject_Hotness_Score</th>\n",
              "      <th>Total_Past_Communications</th>\n",
              "      <th>Word_Count</th>\n",
              "      <th>Email_Status</th>\n",
              "      <th>Total Attributes</th>\n",
              "      <th>Email_Type_1</th>\n",
              "      <th>Source_1</th>\n",
              "      <th>Campaign_1</th>\n",
              "      <th>Campaign_2</th>\n",
              "      <th>Campaign_3</th>\n",
              "    </tr>\n",
              "  </thead>\n",
              "  <tbody>\n",
              "    <tr>\n",
              "      <th>0</th>\n",
              "      <td>2.2</td>\n",
              "      <td>33.0</td>\n",
              "      <td>440</td>\n",
              "      <td>0</td>\n",
              "      <td>8.0</td>\n",
              "      <td>1</td>\n",
              "      <td>0</td>\n",
              "      <td>0</td>\n",
              "      <td>1</td>\n",
              "      <td>0</td>\n",
              "    </tr>\n",
              "    <tr>\n",
              "      <th>1</th>\n",
              "      <td>2.1</td>\n",
              "      <td>15.0</td>\n",
              "      <td>504</td>\n",
              "      <td>0</td>\n",
              "      <td>5.0</td>\n",
              "      <td>0</td>\n",
              "      <td>1</td>\n",
              "      <td>0</td>\n",
              "      <td>1</td>\n",
              "      <td>0</td>\n",
              "    </tr>\n",
              "    <tr>\n",
              "      <th>2</th>\n",
              "      <td>0.1</td>\n",
              "      <td>36.0</td>\n",
              "      <td>962</td>\n",
              "      <td>1</td>\n",
              "      <td>5.0</td>\n",
              "      <td>0</td>\n",
              "      <td>1</td>\n",
              "      <td>0</td>\n",
              "      <td>0</td>\n",
              "      <td>1</td>\n",
              "    </tr>\n",
              "    <tr>\n",
              "      <th>3</th>\n",
              "      <td>3.0</td>\n",
              "      <td>25.0</td>\n",
              "      <td>610</td>\n",
              "      <td>0</td>\n",
              "      <td>16.0</td>\n",
              "      <td>1</td>\n",
              "      <td>0</td>\n",
              "      <td>0</td>\n",
              "      <td>1</td>\n",
              "      <td>0</td>\n",
              "    </tr>\n",
              "    <tr>\n",
              "      <th>4</th>\n",
              "      <td>0.0</td>\n",
              "      <td>18.0</td>\n",
              "      <td>947</td>\n",
              "      <td>0</td>\n",
              "      <td>4.0</td>\n",
              "      <td>1</td>\n",
              "      <td>0</td>\n",
              "      <td>0</td>\n",
              "      <td>0</td>\n",
              "      <td>1</td>\n",
              "    </tr>\n",
              "  </tbody>\n",
              "</table>\n",
              "</div>"
            ],
            "text/plain": [
              "   Subject_Hotness_Score  Total_Past_Communications  ...  Campaign_2  Campaign_3\n",
              "0                    2.2                       33.0  ...           1           0\n",
              "1                    2.1                       15.0  ...           1           0\n",
              "2                    0.1                       36.0  ...           0           1\n",
              "3                    3.0                       25.0  ...           1           0\n",
              "4                    0.0                       18.0  ...           0           1\n",
              "\n",
              "[5 rows x 10 columns]"
            ]
          },
          "metadata": {
            "tags": []
          },
          "execution_count": 99
        }
      ]
    },
    {
      "cell_type": "markdown",
      "metadata": {
        "id": "rl9PaBxGtAdb"
      },
      "source": [
        "### Dependent Variable - Email_Status"
      ]
    },
    {
      "cell_type": "code",
      "metadata": {
        "colab": {
          "base_uri": "https://localhost:8080/"
        },
        "id": "evDhgcBFs6Dm",
        "outputId": "bb73d81a-b3be-4193-d010-c846e94a16c4"
      },
      "source": [
        "# Looking at all the unique data\n",
        "df[\"Email_Status\"].unique()"
      ],
      "execution_count": 100,
      "outputs": [
        {
          "output_type": "execute_result",
          "data": {
            "text/plain": [
              "array([0, 1, 2])"
            ]
          },
          "metadata": {
            "tags": []
          },
          "execution_count": 100
        }
      ]
    },
    {
      "cell_type": "markdown",
      "metadata": {
        "id": "CvUge5w6tCSE"
      },
      "source": [
        "Hence there are a total of 3 labels our data can be classified as which can be translated to ignored, read, acknowledged."
      ]
    },
    {
      "cell_type": "code",
      "metadata": {
        "colab": {
          "base_uri": "https://localhost:8080/",
          "height": 297
        },
        "id": "swFs0Ebss6Gj",
        "outputId": "c87f6024-0025-439a-b5a2-45af60da7ad2"
      },
      "source": [
        "# Pllotting the freq of the target variables\n",
        "sns.countplot(x='Email_Status',data=df)"
      ],
      "execution_count": 101,
      "outputs": [
        {
          "output_type": "execute_result",
          "data": {
            "text/plain": [
              "<matplotlib.axes._subplots.AxesSubplot at 0x7f61dc5fad50>"
            ]
          },
          "metadata": {
            "tags": []
          },
          "execution_count": 101
        },
        {
          "output_type": "display_data",
          "data": {
            "image/png": "[encoded data removed]",
            "text/plain": [
              "<Figure size 432x288 with 1 Axes>"
            ]
          },
          "metadata": {
            "tags": [],
            "needs_background": "light"
          }
        }
      ]
    },
    {
      "cell_type": "markdown",
      "metadata": {
        "id": "d54HicQ3tTDl"
      },
      "source": [
        "Clearly from the plot we observe that our data is very imbalanced in nature having majority of the records from class 0 and very less records for class 1 and 2."
      ]
    },
    {
      "cell_type": "markdown",
      "metadata": {
        "id": "HAO--yFh80yb"
      },
      "source": [
        "Handling the Imbalance of Data - SMOTE Technique"
      ]
    },
    {
      "cell_type": "code",
      "metadata": {
        "id": "Asiur-LSqGyc"
      },
      "source": [
        "# Splitting the data into X and Y where X are the independent variables and Y are the target variables\n",
        "\n",
        "X = new_df.loc[ : , new_df.columns != 'Email_Status']\n",
        "Y = new_df.Email_Status\n"
      ],
      "execution_count": 102,
      "outputs": []
    },
    {
      "cell_type": "code",
      "metadata": {
        "id": "yrR_2xo_qG4N"
      },
      "source": [
        "pip install imblearn"
      ],
      "execution_count": null,
      "outputs": []
    },
    {
      "cell_type": "code",
      "metadata": {
        "id": "GPG-6oSYqG7E"
      },
      "source": [
        "# Creating instance of SMOTE\n",
        "from imblearn.over_sampling import SMOTE\n",
        "smote = SMOTE()"
      ],
      "execution_count": 103,
      "outputs": []
    },
    {
      "cell_type": "code",
      "metadata": {
        "colab": {
          "base_uri": "https://localhost:8080/"
        },
        "id": "bSQJbHvZqG-E",
        "outputId": "ea7affb9-096d-4bbc-e53a-17c44837d5bc"
      },
      "source": [
        "# Oversampling the train set \n",
        "X_smote , y_smote = smote.fit_sample(X,Y)"
      ],
      "execution_count": 104,
      "outputs": [
        {
          "output_type": "stream",
          "text": [
            "/usr/local/lib/python3.7/dist-packages/sklearn/utils/deprecation.py:87: FutureWarning: Function safe_indexing is deprecated; safe_indexing is deprecated in version 0.22 and will be removed in version 0.24.\n",
            "  warnings.warn(msg, category=FutureWarning)\n",
            "/usr/local/lib/python3.7/dist-packages/sklearn/utils/deprecation.py:87: FutureWarning: Function safe_indexing is deprecated; safe_indexing is deprecated in version 0.22 and will be removed in version 0.24.\n",
            "  warnings.warn(msg, category=FutureWarning)\n"
          ],
          "name": "stderr"
        }
      ]
    },
    {
      "cell_type": "code",
      "metadata": {
        "colab": {
          "base_uri": "https://localhost:8080/"
        },
        "id": "CBDyVlwvqHAw",
        "outputId": "b4af0c14-a21b-4e78-d877-607bf5898dd5"
      },
      "source": [
        "from collections import Counter\n",
        "print(\"Before SMOTE: \" , Counter(Y))\n",
        "print(\"After SMOTE: \" , Counter(y_smote))\n"
      ],
      "execution_count": 105,
      "outputs": [
        {
          "output_type": "stream",
          "text": [
            "Before SMOTE:  Counter({0: 53054, 1: 10662, 2: 2308})\n",
            "After SMOTE:  Counter({0: 53054, 1: 53054, 2: 53054})\n"
          ],
          "name": "stdout"
        }
      ]
    },
    {
      "cell_type": "code",
      "metadata": {
        "colab": {
          "base_uri": "https://localhost:8080/",
          "height": 298
        },
        "id": "ND-QEArPdusF",
        "outputId": "2b66e0b0-0469-40d6-a7e2-8d1c6e2abdad"
      },
      "source": [
        "plt.bar(Counter(Y).keys(), Counter(Y).values())\n",
        "plt.title(\"Before SMOTE\")"
      ],
      "execution_count": 106,
      "outputs": [
        {
          "output_type": "execute_result",
          "data": {
            "text/plain": [
              "Text(0.5, 1.0, 'Before SMOTE')"
            ]
          },
          "metadata": {
            "tags": []
          },
          "execution_count": 106
        },
        {
          "output_type": "display_data",
          "data": {
            "image/png": "[encoded data removed]",
            "text/plain": [
              "<Figure size 432x288 with 1 Axes>"
            ]
          },
          "metadata": {
            "tags": [],
            "needs_background": "light"
          }
        }
      ]
    },
    {
      "cell_type": "code",
      "metadata": {
        "colab": {
          "base_uri": "https://localhost:8080/",
          "height": 298
        },
        "id": "5vKOUL00eSbl",
        "outputId": "101f92ae-52cd-4b9e-a5d1-06d712ce0a65"
      },
      "source": [
        "plt.bar(Counter(y_smote).keys(), Counter(y_smote).values())\n",
        "plt.title(\"After SMOTE\")"
      ],
      "execution_count": 107,
      "outputs": [
        {
          "output_type": "execute_result",
          "data": {
            "text/plain": [
              "Text(0.5, 1.0, 'After SMOTE')"
            ]
          },
          "metadata": {
            "tags": []
          },
          "execution_count": 107
        },
        {
          "output_type": "display_data",
          "data": {
            "image/png": "[encoded data removed]",
            "text/plain": [
              "<Figure size 432x288 with 1 Axes>"
            ]
          },
          "metadata": {
            "tags": [],
            "needs_background": "light"
          }
        }
      ]
    },
    {
      "cell_type": "markdown",
      "metadata": {
        "id": "kHjRE00jt_Jm"
      },
      "source": [
        "The imbalanced data has been balanced now with classes 1 and 2 being oversampled to 53054"
      ]
    },
    {
      "cell_type": "code",
      "metadata": {
        "id": "MgX9ZW8nqG1N"
      },
      "source": [
        "# Doing a train test split \n",
        "from sklearn.model_selection import train_test_split\n",
        "from sklearn.preprocessing import StandardScaler\n",
        "\n",
        "X_train,X_test, y_train,y_test = train_test_split(X_smote,y_smote,test_size = 0.3,random_state = 10, stratify = y_smote)\n",
        "\n",
        "# # Standardization \n",
        "scaler = StandardScaler()\n",
        "normalized_X_train = pd.DataFrame(scaler.fit_transform(X_train))\n",
        "normalized_X_test = pd.DataFrame(scaler.transform(X_test))\n"
      ],
      "execution_count": 108,
      "outputs": []
    },
    {
      "cell_type": "code",
      "metadata": {
        "colab": {
          "base_uri": "https://localhost:8080/",
          "height": 298
        },
        "id": "Q0kFG_f2cb4c",
        "outputId": "ad46befd-8543-4b1b-f20b-6b1a2291ab3d"
      },
      "source": [
        "# Distribution of y on train set\n",
        "plt.bar(Counter(y_train).keys(), Counter(y_train).values(),color='g')\n",
        "plt.title(\"Predictors in train split\")\n"
      ],
      "execution_count": 113,
      "outputs": [
        {
          "output_type": "execute_result",
          "data": {
            "text/plain": [
              "Text(0.5, 1.0, 'Predictors in train split')"
            ]
          },
          "metadata": {
            "tags": []
          },
          "execution_count": 113
        },
        {
          "output_type": "display_data",
          "data": {
            "image/png": "[encoded data removed]",
            "text/plain": [
              "<Figure size 432x288 with 1 Axes>"
            ]
          },
          "metadata": {
            "tags": [],
            "needs_background": "light"
          }
        }
      ]
    },
    {
      "cell_type": "code",
      "metadata": {
        "colab": {
          "base_uri": "https://localhost:8080/",
          "height": 298
        },
        "id": "JnpuwKtrchYf",
        "outputId": "ba53b334-e522-45e4-dc21-32e360706f43"
      },
      "source": [
        "# Distribution of y on test set\n",
        "plt.bar(Counter(y_test).keys(), Counter(y_test).values(),color='y')\n",
        "plt.title(\"Predictors in test split\")"
      ],
      "execution_count": 114,
      "outputs": [
        {
          "output_type": "execute_result",
          "data": {
            "text/plain": [
              "Text(0.5, 1.0, 'Predictors in test split')"
            ]
          },
          "metadata": {
            "tags": []
          },
          "execution_count": 114
        },
        {
          "output_type": "display_data",
          "data": {
            "image/png": "[encoded data removed]",
            "text/plain": [
              "<Figure size 432x288 with 1 Axes>"
            ]
          },
          "metadata": {
            "tags": [],
            "needs_background": "light"
          }
        }
      ]
    },
    {
      "cell_type": "markdown",
      "metadata": {
        "id": "PtoiYlnNdPcz"
      },
      "source": [
        "Hence did an equal split of train test in the same ratio for the dependent variables."
      ]
    },
    {
      "cell_type": "markdown",
      "metadata": {
        "id": "WDjoTPTe4lAH"
      },
      "source": [
        "## XG-Boost :"
      ]
    },
    {
      "cell_type": "code",
      "metadata": {
        "id": "Q60SS8ZbqHDm"
      },
      "source": [
        "# XG Boost Object\n",
        "from xgboost import XGBClassifier\n",
        "xgb = XGBClassifier(n_estimators=100,max_depth=12,min_samples_leaf=20,min_samples_split=30)"
      ],
      "execution_count": 116,
      "outputs": []
    },
    {
      "cell_type": "code",
      "metadata": {
        "colab": {
          "base_uri": "https://localhost:8080/"
        },
        "id": "FJL_dPuuqHGv",
        "outputId": "9f705df5-9ef9-470a-abdd-2378d4908d8b"
      },
      "source": [
        "# Training the model\n",
        "xgb.fit(normalized_X_train,y_train)"
      ],
      "execution_count": 117,
      "outputs": [
        {
          "output_type": "execute_result",
          "data": {
            "text/plain": [
              "XGBClassifier(base_score=0.5, booster='gbtree', colsample_bylevel=1,\n",
              "              colsample_bynode=1, colsample_bytree=1, gamma=0,\n",
              "              learning_rate=0.1, max_delta_step=0, max_depth=12,\n",
              "              min_child_weight=1, min_samples_leaf=20, min_samples_split=30,\n",
              "              missing=None, n_estimators=100, n_jobs=1, nthread=None,\n",
              "              objective='multi:softprob', random_state=0, reg_alpha=0,\n",
              "              reg_lambda=1, scale_pos_weight=1, seed=None, silent=None,\n",
              "              subsample=1, verbosity=1)"
            ]
          },
          "metadata": {
            "tags": []
          },
          "execution_count": 117
        }
      ]
    },
    {
      "cell_type": "markdown",
      "metadata": {
        "id": "ChhG_pHu4w4w"
      },
      "source": [
        "## Predicting the y labels and probabilities for both y test as well as train"
      ]
    },
    {
      "cell_type": "code",
      "metadata": {
        "id": "kQtrM2v7h17h"
      },
      "source": [
        "# Predicting the probabilities for y-test\n",
        "y_predict_proba = xgb.predict_proba(normalized_X_test)\n",
        "\n",
        "# Predicting the probabilities for y-train\n",
        "y_predict_train_proba = xgb.predict_proba(normalized_X_train)"
      ],
      "execution_count": 118,
      "outputs": []
    },
    {
      "cell_type": "code",
      "metadata": {
        "id": "ToKwqAjVqHJ3"
      },
      "source": [
        "# Predicting the label for y-test\n",
        "y_predict = xgb.predict(normalized_X_test)\n",
        "\n",
        "# Predicting the label for y-train\n",
        "y_predict_train = xgb.predict(normalized_X_train)"
      ],
      "execution_count": 119,
      "outputs": []
    },
    {
      "cell_type": "code",
      "metadata": {
        "colab": {
          "base_uri": "https://localhost:8080/"
        },
        "id": "VqQ7oig5s5Qn",
        "outputId": "60b3aa8b-ed32-4556-f721-fc48233cecbd"
      },
      "source": [
        "from sklearn.metrics import classification_report,roc_auc_score,f1_score,roc_curve,plot_confusion_matrix\n",
        "print(\"Classification report for train data\\n\\n\",classification_report(y_train,y_predict_train))"
      ],
      "execution_count": 122,
      "outputs": [
        {
          "output_type": "stream",
          "text": [
            "Classification report for train data\n",
            "\n",
            "               precision    recall  f1-score   support\n",
            "\n",
            "           0       0.89      0.98      0.93     37138\n",
            "           1       0.96      0.80      0.87     37137\n",
            "           2       0.91      0.96      0.93     37138\n",
            "\n",
            "    accuracy                           0.91    111413\n",
            "   macro avg       0.92      0.91      0.91    111413\n",
            "weighted avg       0.92      0.91      0.91    111413\n",
            "\n"
          ],
          "name": "stdout"
        }
      ]
    },
    {
      "cell_type": "code",
      "metadata": {
        "colab": {
          "base_uri": "https://localhost:8080/",
          "height": 1000
        },
        "id": "2ODU-MCunwCC",
        "outputId": "1769f9bd-b454-49b8-bb20-91728d4d71ac"
      },
      "source": [
        "print(\"Classification report for test data\\n\\n\",classification_report(y_test,y_predict))\n",
        "\n",
        "# ROC-AUC Score\n",
        "print(\"ROC-AUC for trainset: \", roc_auc_score(y_train,y_predict_train_proba,multi_class = 'ovr'))\n",
        "print(\"ROC-AUC for testset: \", roc_auc_score(y_test,y_predict_proba,multi_class = 'ovr'))\n",
        "print(\"\\n\")\n",
        "\n",
        "# F1 Score\n",
        "print(\"F1 Score for trainset: \", f1_score(y_train,y_predict_train,average='weighted'))\n",
        "print(\"F1 Score for testset: \", f1_score(y_test,y_predict,average='weighted'))\n",
        "\n",
        "# Plot the confusion matrix\n",
        "hmp = pd.crosstab(y_test,y_predict)\n",
        "print(\"\\n\\n\",hmp,\"\\n\")\n",
        "fig, ax = plt.subplots(figsize = (8,10))\n",
        "sns.heatmap(hmp, annot=True)\n",
        "ax.set_ylabel('')    \n",
        "ax.set_xlabel('')"
      ],
      "execution_count": 147,
      "outputs": [
        {
          "output_type": "stream",
          "text": [
            "Classification report for test data\n",
            "\n",
            "               precision    recall  f1-score   support\n",
            "\n",
            "           0       0.83      0.95      0.89     15916\n",
            "           1       0.85      0.66      0.74     15917\n",
            "           2       0.83      0.90      0.86     15916\n",
            "\n",
            "    accuracy                           0.84     47749\n",
            "   macro avg       0.84      0.84      0.83     47749\n",
            "weighted avg       0.84      0.84      0.83     47749\n",
            "\n",
            "ROC-AUC for trainset:  0.9863198800239971\n",
            "ROC-AUC for testset:  0.9449650920968026\n",
            "\n",
            "\n",
            "F1 Score for trainset:  0.9129998299496329\n",
            "F1 Score for testset:  0.830988885593308\n",
            "\n",
            "\n",
            " col_0      0      1      2\n",
            "row_0                     \n",
            "0      15092    757     67\n",
            "1       2455  10507   2955\n",
            "2        537   1060  14319 \n",
            "\n"
          ],
          "name": "stdout"
        },
        {
          "output_type": "execute_result",
          "data": {
            "text/plain": [
              "Text(0.5, 69.0, '')"
            ]
          },
          "metadata": {
            "tags": []
          },
          "execution_count": 147
        },
        {
          "output_type": "display_data",
          "data": {
            "image/png": "[encoded data removed]",
            "text/plain": [
              "<Figure size 576x720 with 2 Axes>"
            ]
          },
          "metadata": {
            "tags": [],
            "needs_background": "light"
          }
        }
      ]
    },
    {
      "cell_type": "markdown",
      "metadata": {
        "id": "KuiYSL1WAqjH"
      },
      "source": [
        "### Hence XG Boost gives very good results for train and test data both. Checking the ROC-AUC curve."
      ]
    },
    {
      "cell_type": "code",
      "metadata": {
        "id": "IVUmIBNtjyOi"
      },
      "source": [
        "def plot_roc_curve(fpr, tpr):\n",
        "    plt.plot(fpr, tpr, color='orange', label='ROC')\n",
        "    plt.plot([0, 1], [0, 1], color='darkblue', linestyle='--')\n",
        "    plt.xlabel('False Positive Rate')\n",
        "    plt.ylabel('True Positive Rate')\n",
        "    plt.title('Receiver Operating Characteristic (ROC) Curve')\n",
        "    plt.legend()\n",
        "    plt.show()"
      ],
      "execution_count": 148,
      "outputs": []
    },
    {
      "cell_type": "code",
      "metadata": {
        "colab": {
          "base_uri": "https://localhost:8080/"
        },
        "id": "u2VvhovUGiPu",
        "outputId": "401237fc-3214-41a4-f92a-149e9d9d830b"
      },
      "source": [
        "auc = roc_auc_score(y_test,y_predict_proba,multi_class = 'ovr')\n",
        "print('AUC: %.2f' % auc)"
      ],
      "execution_count": 150,
      "outputs": [
        {
          "output_type": "stream",
          "text": [
            "AUC: 0.94\n"
          ],
          "name": "stdout"
        }
      ]
    },
    {
      "cell_type": "code",
      "metadata": {
        "id": "cmQ1U7e2nwEr"
      },
      "source": [
        "features = X.columns\n",
        "importances = xgb.feature_importances_\n",
        "indices = np.argsort(importances)"
      ],
      "execution_count": 141,
      "outputs": []
    },
    {
      "cell_type": "code",
      "metadata": {
        "colab": {
          "base_uri": "https://localhost:8080/",
          "height": 295
        },
        "id": "JBxi_snfnwHP",
        "outputId": "060cbbc2-690f-44c6-cf1c-e5f92bc92d3b"
      },
      "source": [
        "plt.title('Feature Importance')\n",
        "plt.barh(range(len(indices)), importances[indices], color='red', align='center')\n",
        "plt.yticks(range(len(indices)), [features[i] for i in indices])\n",
        "plt.xlabel('Relative Importance')\n",
        "\n",
        "plt.show()"
      ],
      "execution_count": 142,
      "outputs": [
        {
          "output_type": "display_data",
          "data": {
            "image/png": "[encoded data removed]",
            "text/plain": [
              "<Figure size 432x288 with 1 Axes>"
            ]
          },
          "metadata": {
            "tags": [],
            "needs_background": "light"
          }
        }
      ]
    },
    {
      "cell_type": "markdown",
      "metadata": {
        "id": "vCTtMflnojOO"
      },
      "source": [
        "## Using Naive Bayes:"
      ]
    },
    {
      "cell_type": "code",
      "metadata": {
        "id": "Tn0tkMXcnwRr",
        "colab": {
          "base_uri": "https://localhost:8080/"
        },
        "outputId": "da925072-b7f7-4a3e-e4e9-d46e2d236f35"
      },
      "source": [
        "from sklearn.naive_bayes import GaussianNB\n",
        "classifier = GaussianNB()\n",
        "classifier.fit(normalized_X_train,y_train)"
      ],
      "execution_count": 143,
      "outputs": [
        {
          "output_type": "execute_result",
          "data": {
            "text/plain": [
              "GaussianNB(priors=None, var_smoothing=1e-09)"
            ]
          },
          "metadata": {
            "tags": []
          },
          "execution_count": 143
        }
      ]
    },
    {
      "cell_type": "code",
      "metadata": {
        "id": "GnJc8sH8nwUv"
      },
      "source": [
        "# Predicting the probability values\n",
        "y_predict_proba_naive = classifier.predict_proba(normalized_X_test)\n",
        "y_predict_train_proba_naive = classifier.predict_proba(normalized_X_train)\n",
        "y_predict_naive = classifier.predict(normalized_X_test)\n",
        "y_predict_train_naive = classifier.predict(normalized_X_train)"
      ],
      "execution_count": 144,
      "outputs": []
    },
    {
      "cell_type": "code",
      "metadata": {
        "colab": {
          "base_uri": "https://localhost:8080/"
        },
        "id": "Gh-HZ_AipZSI",
        "outputId": "216a899b-7bdf-4d91-9df2-f2947c012ece"
      },
      "source": [
        "print(classification_report(y_train,y_predict_train_naive))"
      ],
      "execution_count": 145,
      "outputs": [
        {
          "output_type": "stream",
          "text": [
            "              precision    recall  f1-score   support\n",
            "\n",
            "           0       0.50      0.78      0.61     37138\n",
            "           1       0.37      0.01      0.03     37137\n",
            "           2       0.49      0.69      0.57     37138\n",
            "\n",
            "    accuracy                           0.49    111413\n",
            "   macro avg       0.45      0.49      0.40    111413\n",
            "weighted avg       0.45      0.49      0.40    111413\n",
            "\n"
          ],
          "name": "stdout"
        }
      ]
    },
    {
      "cell_type": "code",
      "metadata": {
        "colab": {
          "base_uri": "https://localhost:8080/",
          "height": 445
        },
        "id": "0-DU6htypbPg",
        "outputId": "644aa324-6d45-4f4c-be1b-32f0886e154a"
      },
      "source": [
        "# Predicting the metrics\n",
        "from sklearn.metrics import classification_report,roc_auc_score,f1_score\n",
        "print(classification_report(y_test,y_predict_naive))\n",
        "print(\"ROC-AUC for trainset: \", roc_auc_score(y_train,y_predict_train_proba_naive,multi_class = 'ovr'))\n",
        "print(\"ROC-AUC for testset: \", roc_auc_score(y_test,y_predict_proba_naive,multi_class = 'ovr'))\n",
        "print(\"\\n\")\n",
        "print(\"F1 Score for trainset: \", f1_score(y_train,y_predict_train_naive,average='weighted'))\n",
        "print(\"F1 Score for testset: \", f1_score(y_test,y_predict_naive,average='weighted'))\n",
        "pd.crosstab(y_test,y_predict_naive)"
      ],
      "execution_count": 146,
      "outputs": [
        {
          "output_type": "stream",
          "text": [
            "              precision    recall  f1-score   support\n",
            "\n",
            "           0       0.50      0.78      0.61     15916\n",
            "           1       0.38      0.02      0.03     15917\n",
            "           2       0.49      0.69      0.58     15916\n",
            "\n",
            "    accuracy                           0.49     47749\n",
            "   macro avg       0.46      0.49      0.40     47749\n",
            "weighted avg       0.46      0.49      0.40     47749\n",
            "\n",
            "ROC-AUC for trainset:  0.6975276888845695\n",
            "ROC-AUC for testset:  0.6982927947505218\n",
            "\n",
            "\n",
            "F1 Score for trainset:  0.40281839783636414\n",
            "F1 Score for testset:  0.404948078686676\n"
          ],
          "name": "stdout"
        },
        {
          "output_type": "execute_result",
          "data": {
            "text/html": [
              "<div>\n",
              "<style scoped>\n",
              "    .dataframe tbody tr th:only-of-type {\n",
              "        vertical-align: middle;\n",
              "    }\n",
              "\n",
              "    .dataframe tbody tr th {\n",
              "        vertical-align: top;\n",
              "    }\n",
              "\n",
              "    .dataframe thead th {\n",
              "        text-align: right;\n",
              "    }\n",
              "</style>\n",
              "<table border=\"1\" class=\"dataframe\">\n",
              "  <thead>\n",
              "    <tr style=\"text-align: right;\">\n",
              "      <th>col_0</th>\n",
              "      <th>0</th>\n",
              "      <th>1</th>\n",
              "      <th>2</th>\n",
              "    </tr>\n",
              "    <tr>\n",
              "      <th>row_0</th>\n",
              "      <th></th>\n",
              "      <th></th>\n",
              "      <th></th>\n",
              "    </tr>\n",
              "  </thead>\n",
              "  <tbody>\n",
              "    <tr>\n",
              "      <th>0</th>\n",
              "      <td>12401</td>\n",
              "      <td>62</td>\n",
              "      <td>3453</td>\n",
              "    </tr>\n",
              "    <tr>\n",
              "      <th>1</th>\n",
              "      <td>7825</td>\n",
              "      <td>256</td>\n",
              "      <td>7836</td>\n",
              "    </tr>\n",
              "    <tr>\n",
              "      <th>2</th>\n",
              "      <td>4585</td>\n",
              "      <td>353</td>\n",
              "      <td>10978</td>\n",
              "    </tr>\n",
              "  </tbody>\n",
              "</table>\n",
              "</div>"
            ],
            "text/plain": [
              "col_0      0    1      2\n",
              "row_0                   \n",
              "0      12401   62   3453\n",
              "1       7825  256   7836\n",
              "2       4585  353  10978"
            ]
          },
          "metadata": {
            "tags": []
          },
          "execution_count": 146
        }
      ]
    },
    {
      "cell_type": "markdown",
      "metadata": {
        "id": "Wr_aIS1fEtIL"
      },
      "source": [
        "We can see that the Naive Bayes Model does not work well for the dataset as it does not beat even the baseline score."
      ]
    },
    {
      "cell_type": "markdown",
      "metadata": {
        "id": "Iq4m9oD9FCgP"
      },
      "source": [
        "## Conclusion:\n",
        "\n",
        "* We understand that XG Boost works best for the model.\n",
        "* From feature analysis, we can observe that the Email_Campaign_Type is highly important and highly affects the Email to be read/acknowledged.\n",
        "* Email_Time is not a very important metric "
      ]
    }
  ]
}